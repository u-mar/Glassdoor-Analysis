{
 "cells": [
  {
   "cell_type": "markdown",
   "id": "d448422e",
   "metadata": {},
   "source": [
    "\n",
    "# Salary Prediction Model\n",
    "\n",
    "This notebook demonstrates a complete workflow for building a salary prediction model using machine learning. The model is trained using a Random Forest Regressor, and its hyperparameters are optimized with GridSearchCV. The final model is exported for later use in production.\n",
    "\n",
    "**Sections:**\n",
    "1. Data Preprocessing\n",
    "2. Model Training and Hyperparameter Tuning\n",
    "3. Model Evaluation\n",
    "4. Model Export\n",
    "5. Model Testing\n",
    "\n",
    "Let's dive in!\n"
   ]
  },
  {
   "cell_type": "markdown",
   "id": "c3689601",
   "metadata": {},
   "source": [
    "## Importing Necessary Libraries"
   ]
  },
  {
   "cell_type": "code",
   "execution_count": null,
   "id": "9cfc7292",
   "metadata": {},
   "outputs": [],
   "source": [
    "# Import libraries\n",
    "import pandas as pd \n",
    "import matplotlib.pyplot as plt\n",
    "import seaborn as sns\n",
    "import numpy as np\n",
    "import warnings\n",
    "\n",
    "\n",
    "warnings.filterwarnings('ignore')"
   ]
  },
  {
   "cell_type": "code",
   "execution_count": null,
   "id": "0dfa2f82",
   "metadata": {},
   "outputs": [],
   "source": [
    "# Code Block\n",
    "df = pd.read_csv(\"../Data/Cleaned/glassdoor-cleaned.csv\")\n",
    "df.head()"
   ]
  },
  {
   "cell_type": "markdown",
   "id": "38b8ac33-8fb7-4582-a790-6b10bae0a417",
   "metadata": {},
   "source": [
    "### Feature Engineering"
   ]
  },
  {
   "cell_type": "markdown",
   "id": "8150f19f-7a0b-4e56-b6b4-42b48b1f87d6",
   "metadata": {},
   "source": [
    "#### Making a new dataframe with relevant features for the regression model"
   ]
  },
  {
   "cell_type": "code",
   "execution_count": null,
   "id": "fd17e38d",
   "metadata": {},
   "outputs": [],
   "source": [
    "# Code Block\n",
    "cols_model = ['job_state', 'seniority', 'job_education', 'job_experience', 'company_industry', 'company_rating', 'salary_estimate']\n",
    "\n",
    "df_model = df[cols_model]\n",
    "df_model.head()"
   ]
  },
  {
   "cell_type": "markdown",
   "id": "14dd8143-832b-4905-96a4-e73f4f83d22c",
   "metadata": {},
   "source": [
    "#### Dropping some states and company industries that have below 5 data points."
   ]
  },
  {
   "cell_type": "code",
   "execution_count": null,
   "id": "9d209f75",
   "metadata": {},
   "outputs": [],
   "source": [
    "# Code Block\n",
    "jobstate_count = df_model['job_state'].value_counts()\n",
    "jobstate_count"
   ]
  },
  {
   "cell_type": "code",
   "execution_count": null,
   "id": "efdd38a2",
   "metadata": {},
   "outputs": [],
   "source": [
    "# Code Block\n",
    "states_g5 = jobstate_count[jobstate_count > 5].index.tolist()\n",
    "\n",
    "df_model = df_model[df_model[\"job_state\"].isin(states_g5)]\n",
    "df_model['job_state'].value_counts()"
   ]
  },
  {
   "cell_type": "markdown",
   "id": "7638b103-e79d-4a08-b6ec-1740856512f2",
   "metadata": {},
   "source": [
    "## For the Predict Salary page"
   ]
  },
  {
   "cell_type": "code",
   "execution_count": null,
   "id": "061fa3cf",
   "metadata": {},
   "outputs": [],
   "source": [
    "# Code Block\n",
    "df_model['company_rating'].unique()"
   ]
  },
  {
   "cell_type": "code",
   "execution_count": null,
   "id": "20789c41",
   "metadata": {},
   "outputs": [],
   "source": [
    "# Code Block\n",
    "df_model['company_industry'].unique()"
   ]
  },
  {
   "cell_type": "markdown",
   "id": "31a074be-c27c-42a0-b331-96c8c4f215c2",
   "metadata": {},
   "source": [
    "#### One Hot Encoding"
   ]
  },
  {
   "cell_type": "markdown",
   "id": "12cc3251",
   "metadata": {},
   "source": [
    "## Importing Necessary Libraries"
   ]
  },
  {
   "cell_type": "code",
   "execution_count": null,
   "id": "dc557719",
   "metadata": {},
   "outputs": [],
   "source": [
    "# Import libraries\n",
    "from sklearn.preprocessing import LabelEncoder"
   ]
  },
  {
   "cell_type": "code",
   "execution_count": null,
   "id": "7024e9dd",
   "metadata": {},
   "outputs": [],
   "source": [
    "# Code Block\n",
    "le_state = LabelEncoder()\n",
    "df_model['job_state'] = le_state.fit_transform(df_model['job_state'])\n",
    "df_model['job_state'].unique()"
   ]
  },
  {
   "cell_type": "code",
   "execution_count": null,
   "id": "fd5a9b82",
   "metadata": {},
   "outputs": [],
   "source": [
    "# Code Block\n",
    "le_sen = LabelEncoder()\n",
    "df_model['seniority'] = le_sen.fit_transform(df_model['seniority'])\n",
    "df_model['seniority'].unique()"
   ]
  },
  {
   "cell_type": "code",
   "execution_count": null,
   "id": "eb5e3d88",
   "metadata": {},
   "outputs": [],
   "source": [
    "# Code Block\n",
    "le_edu = LabelEncoder()\n",
    "df_model['job_education'] = le_edu.fit_transform(df_model['job_education'])\n",
    "df_model['job_education'].unique()"
   ]
  },
  {
   "cell_type": "code",
   "execution_count": null,
   "id": "fe984d95",
   "metadata": {},
   "outputs": [],
   "source": [
    "# Code Block\n",
    "le_indu = LabelEncoder()\n",
    "df_model['company_industry'] = le_indu.fit_transform(df_model['company_industry'])\n",
    "df_model['company_industry'].unique()"
   ]
  },
  {
   "cell_type": "code",
   "execution_count": null,
   "id": "62f75faa",
   "metadata": {},
   "outputs": [],
   "source": [
    "# Code Block\n",
    "unique_company_ratings = np.sort(df_model['company_rating'].unique())\n",
    "unique_company_ratings"
   ]
  },
  {
   "cell_type": "code",
   "execution_count": null,
   "id": "7e2d2c58",
   "metadata": {},
   "outputs": [],
   "source": [
    "# Code Block\n",
    "le_rating = LabelEncoder()\n",
    "df_model['company_rating'] = le_rating.fit_transform(df_model['company_rating'])\n",
    "df_model['company_rating'].unique()"
   ]
  },
  {
   "cell_type": "code",
   "execution_count": null,
   "id": "937a4b5d",
   "metadata": {},
   "outputs": [],
   "source": [
    "# Code Block\n",
    "le_exp = LabelEncoder()\n",
    "df_model['job_experience'] = le_exp.fit_transform(df_model['job_experience'])\n",
    "df_model['job_experience'].unique()"
   ]
  },
  {
   "cell_type": "code",
   "execution_count": null,
   "id": "2fe30beb",
   "metadata": {},
   "outputs": [],
   "source": [
    "# Code Block\n",
    "df_model.head()"
   ]
  },
  {
   "cell_type": "code",
   "execution_count": null,
   "id": "aada5063",
   "metadata": {},
   "outputs": [],
   "source": [
    "# Code Block\n",
    "corrmat = df_model.corr()\n",
    "plt.subplots(figsize=(12,9))\n",
    "sns.heatmap(corrmat, vmax=0.9, annot=True, square=True)"
   ]
  },
  {
   "cell_type": "markdown",
   "id": "6b0e0dfa-6e5a-45bc-b396-e4ec494a57f5",
   "metadata": {},
   "source": [
    "#### The salary is moderatly correlated with the seniority, company industry and company rating. Suprisingly it is negatively correlated with the job experience needed and the job state."
   ]
  },
  {
   "cell_type": "markdown",
   "id": "6b8a287e-4f89-4e56-bbd3-95d480ccdc60",
   "metadata": {},
   "source": [
    "## Multiple Linear Regression"
   ]
  },
  {
   "cell_type": "markdown",
   "id": "b491853a",
   "metadata": {},
   "source": [
    "## Importing Necessary Libraries"
   ]
  },
  {
   "cell_type": "code",
   "execution_count": null,
   "id": "189278a7",
   "metadata": {},
   "outputs": [],
   "source": [
    "# Import libraries\n",
    "from sklearn.linear_model import LinearRegression\n",
    "from sklearn.model_selection import GridSearchCV, train_test_split\n",
    "from sklearn.metrics import mean_squared_error, mean_absolute_error"
   ]
  },
  {
   "cell_type": "code",
   "execution_count": null,
   "id": "2eb0bf8b",
   "metadata": {},
   "outputs": [],
   "source": [
    "# Code Block\n",
    "X = df_model.drop(\"salary_estimate\", axis=1)\n",
    "y = df_model[\"salary_estimate\"].values"
   ]
  },
  {
   "cell_type": "code",
   "execution_count": null,
   "id": "fc0364b4",
   "metadata": {},
   "outputs": [],
   "source": [
    "# Code Block\n",
    "X_train, X_test, y_train, y_test = train_test_split(X, y, test_size=0.25, random_state=42)"
   ]
  },
  {
   "cell_type": "code",
   "execution_count": null,
   "id": "f8855408",
   "metadata": {},
   "outputs": [],
   "source": [
    "# Code Block\n",
    "model = LinearRegression()"
   ]
  },
  {
   "cell_type": "code",
   "execution_count": null,
   "id": "31f5a723",
   "metadata": {},
   "outputs": [],
   "source": [
    "# Code Block\n",
    "model.fit(X_train, y_train)"
   ]
  },
  {
   "cell_type": "code",
   "execution_count": null,
   "id": "b69a0a0d",
   "metadata": {},
   "outputs": [],
   "source": [
    "# Code Block\n",
    "predictions = model.predict(X_test)"
   ]
  },
  {
   "cell_type": "code",
   "execution_count": null,
   "id": "1164b598",
   "metadata": {},
   "outputs": [],
   "source": [
    "# Code Block\n",
    "print(f'Mean Absolute Error : ${round(mean_absolute_error(y_test, predictions), 2)}')"
   ]
  },
  {
   "cell_type": "code",
   "execution_count": null,
   "id": "aa6be280",
   "metadata": {},
   "outputs": [],
   "source": [
    "# Code Block\n",
    "error = np.sqrt(mean_squared_error(y_test, predictions))\n",
    "print(\"Error : ${:,.02f}\".format(error)) "
   ]
  },
  {
   "cell_type": "markdown",
   "id": "b51215f6-ccdd-4066-94fc-14122412ffb7",
   "metadata": {},
   "source": [
    "## Random Forest Regressor Model"
   ]
  },
  {
   "cell_type": "markdown",
   "id": "fd8e6264",
   "metadata": {},
   "source": [
    "## Importing Necessary Libraries"
   ]
  },
  {
   "cell_type": "code",
   "execution_count": null,
   "id": "ceb79e42",
   "metadata": {},
   "outputs": [],
   "source": [
    "# Import libraries\n",
    "from sklearn.ensemble import RandomForestRegressor"
   ]
  },
  {
   "cell_type": "code",
   "execution_count": null,
   "id": "54365edc",
   "metadata": {},
   "outputs": [],
   "source": [
    "# Code Block\n",
    "X = df_model.drop(\"salary_estimate\", axis=1)\n",
    "y = df_model[\"salary_estimate\"].values"
   ]
  },
  {
   "cell_type": "markdown",
   "id": "6d0efcc1",
   "metadata": {},
   "source": [
    "### Hyperparameter Tuning"
   ]
  },
  {
   "cell_type": "code",
   "execution_count": null,
   "id": "3a0cfd56",
   "metadata": {},
   "outputs": [],
   "source": [
    "# Using GridSearchCV to find the best parameters for RandomForestRegressor\n",
    "max_depth = [None, 2, 4, 6, 8, 10, 12]\n",
    "\n",
    "parameters = {\"max_depth\": max_depth}\n",
    "\n",
    "regressor = RandomForestRegressor(n_estimators = 100, random_state=0)\n",
    "gs = GridSearchCV(regressor, parameters, scoring='neg_mean_squared_error')\n",
    "gs.fit(X_train, y_train)"
   ]
  },
  {
   "cell_type": "code",
   "execution_count": null,
   "id": "8a507896",
   "metadata": {},
   "outputs": [],
   "source": [
    "# Code Block\n",
    "regressor = gs.best_estimator_\n",
    "\n",
    "regressor.fit(X_train, y_train)\n",
    "y_pred = regressor.predict(X_test)\n",
    "\n",
    "print(f'Mean Absolute Error : ${round(mean_absolute_error(y_test, y_pred), 2)}')\n",
    "error = np.sqrt(mean_squared_error(y_test, y_pred))\n",
    "print(\"Error : ${:,.02f}\".format(error)) "
   ]
  },
  {
   "cell_type": "code",
   "execution_count": null,
   "id": "2e1dd4d5",
   "metadata": {},
   "outputs": [],
   "source": [
    "# Code Block\n",
    "errors = abs(y_pred - y_test)\n",
    "\n",
    "# Calculate mean absolute percentage error (MAPE)\n",
    "mape = 100 * (errors / y_test)\n",
    "# Calculate and display accuracy\n",
    "accuracy = 100 - np.mean(mape)\n",
    "print('Accuracy:', round(accuracy, 2), '%')"
   ]
  },
  {
   "cell_type": "markdown",
   "id": "348889bc",
   "metadata": {},
   "source": [
    "## Training the Model"
   ]
  },
  {
   "cell_type": "code",
   "execution_count": null,
   "id": "8439c373",
   "metadata": {},
   "outputs": [],
   "source": [
    "# Code Block\n",
    "regressor.fit(X, y)"
   ]
  },
  {
   "cell_type": "markdown",
   "id": "ad72d5e6",
   "metadata": {},
   "source": [
    "## Importing Necessary Libraries"
   ]
  },
  {
   "cell_type": "code",
   "execution_count": null,
   "id": "3a60d755",
   "metadata": {},
   "outputs": [],
   "source": [
    "# Import libraries\n",
    "# Get numerical feature importances\n",
    "importances = list(regressor.feature_importances_)\n",
    "# List of tuples with variable and importance\n",
    "feature_importances = [(feature, round(importance, 2)) for feature, importance in zip(cols_model, importances)]\n",
    "# Sort the feature importances by most important first\n",
    "feature_importances = sorted(feature_importances, key = lambda x: x[1], reverse = True)\n",
    "# Print out the feature and importances \n",
    "[print('Variable: {:20} Importance: {}'.format(*pair)) for pair in feature_importances]"
   ]
  },
  {
   "cell_type": "code",
   "execution_count": null,
   "id": "da8e6f27",
   "metadata": {},
   "outputs": [],
   "source": [
    "# Code Block\n",
    "# job_state, seniority, job_education, job_experience, company_industry, company_rating\n",
    "\n",
    "X_example =  np.array([[\"CA\", \"senior\", \"bachelor\", \"0-2 years\", \"Information Technology Support Services\", 4.5]])"
   ]
  },
  {
   "cell_type": "code",
   "execution_count": null,
   "id": "cd2df6eb",
   "metadata": {},
   "outputs": [],
   "source": [
    "# Code Block\n",
    "X_example[:, 0] = le_state.transform(X_example[:,0])\n",
    "X_example[:, 1] = le_sen.transform(X_example[:,1])\n",
    "X_example[:, 2] = le_edu.transform(X_example[:,2])\n",
    "X_example[:, 3] = le_exp.transform(X_example[:,3])\n",
    "X_example[:, 4] = le_indu.transform(X_example[:,4])\n",
    "X_example[:, 5] = le_rating.transform(X_example[:,5])\n",
    "\n",
    "X_example = X_example.astype(float)\n",
    "X_example"
   ]
  },
  {
   "cell_type": "code",
   "execution_count": null,
   "id": "de461963",
   "metadata": {},
   "outputs": [],
   "source": [
    "# Code Block\n",
    "y_pred = regressor.predict(X_example)\n",
    "salary = int(y_pred[0])\n",
    "print(f\"Predicted salary: ${salary:,}\")"
   ]
  },
  {
   "cell_type": "markdown",
   "id": "2bddc0c7",
   "metadata": {},
   "source": [
    "## Model Export"
   ]
  },
  {
   "cell_type": "markdown",
   "id": "8be2ccd4",
   "metadata": {},
   "source": [
    "## Importing Necessary Libraries"
   ]
  },
  {
   "cell_type": "code",
   "execution_count": null,
   "id": "588af8f5",
   "metadata": {},
   "outputs": [],
   "source": [
    "# Import libraries\n",
    "import pickle\n",
    "\n",
    "data = {\"model\": regressor, \"le_state\": le_state, \"le_sen\": le_sen, \"le_edu\": le_edu, \"le_exp\": le_exp, \"le_indu\": le_indu, \"le_rating\": le_rating}\n",
    "\n",
    "with open('../Models/model_salary_pred.pkl', 'wb') as file:\n",
    "    pickle.dump(data, file)"
   ]
  },
  {
   "cell_type": "markdown",
   "id": "2854af31-8c79-4a3a-91cb-beb70e948d32",
   "metadata": {},
   "source": [
    "#### Let's test our model after importing it from the pickle file"
   ]
  },
  {
   "cell_type": "markdown",
   "id": "9104f41d",
   "metadata": {},
   "source": [
    "### Exporting the Model"
   ]
  },
  {
   "cell_type": "code",
   "execution_count": null,
   "id": "b108d3f7",
   "metadata": {},
   "outputs": [],
   "source": [
    "# Exporting the trained model and necessary encoders\n",
    "with open('../Models/model_salary_pred.pkl', 'rb') as file:\n",
    "    data = pickle.load(file)\n",
    "\n",
    "regressor_loaded = data[\"model\"]\n",
    "le_state = data[\"le_state\"]\n",
    "le_sen = data[\"le_sen\"]\n",
    "le_edu = data[\"le_edu\"]\n",
    "le_exp = data[\"le_exp\"]\n",
    "le_indu = data[\"le_indu\"]\n",
    "le_rating = data[\"le_rating\"]"
   ]
  },
  {
   "cell_type": "code",
   "execution_count": null,
   "id": "92c2eb4f",
   "metadata": {},
   "outputs": [],
   "source": [
    "# Code Block\n",
    "y_pred = regressor_loaded.predict(X_example)\n",
    "salary = int(y_pred[0])\n",
    "print(f\"Predicted salary: ${salary:,}\")"
   ]
  },
  {
   "cell_type": "code",
   "execution_count": null,
   "id": "73e671cc",
   "metadata": {},
   "outputs": [],
   "source": [
    "# Code Block\n"
   ]
  },
  {
   "cell_type": "markdown",
   "id": "2927f6d7",
   "metadata": {},
   "source": [
    "\n",
    "## Model Performance and Accuracy\n",
    "\n",
    "The model's performance is evaluated using the Mean Absolute Error (MAE) and Root Mean Squared Error (RMSE). These metrics provide insights into how well the model is performing:\n",
    "\n",
    "- **MAE:** Represents the average magnitude of errors in a set of predictions, without considering their direction.\n",
    "- **RMSE:** Measures the square root of the average of squared differences between predicted and observed values, penalizing larger errors more than MAE.\n",
    "\n",
    "**Accuracy:** The accuracy is calculated based on the percentage of correctly predicted salary values within the given test set.\n"
   ]
  },
  {
   "cell_type": "markdown",
   "id": "ae9b04fb",
   "metadata": {},
   "source": [
    "### Visualizing Feature Importance"
   ]
  },
  {
   "cell_type": "code",
   "execution_count": null,
   "id": "8a133688",
   "metadata": {},
   "outputs": [],
   "source": [
    "\n",
    "import matplotlib.pyplot as plt\n",
    "\n",
    "# Feature importance visualization\n",
    "importance = regressor.feature_importances_\n",
    "features = X_train.columns\n",
    "\n",
    "plt.figure(figsize=(10, 6))\n",
    "plt.barh(features, importance)\n",
    "plt.xlabel(\"Feature Importance\")\n",
    "plt.ylabel(\"Feature\")\n",
    "plt.title(\"Feature Importance for Salary Prediction Model\")\n",
    "plt.show()\n"
   ]
  }
 ],
 "metadata": {},
 "nbformat": 4,
 "nbformat_minor": 5
}
