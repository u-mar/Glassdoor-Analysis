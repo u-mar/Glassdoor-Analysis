{
 "cells": [
  {
   "cell_type": "markdown",
   "id": "6766eac6-8f42-41d8-a33c-c1e95253e951",
   "metadata": {},
   "source": [
    "### import"
   ]
  },
  {
   "cell_type": "code",
   "execution_count": 1,
   "id": "9b66a4b0-9f13-4acc-afae-f1d53c62814b",
   "metadata": {},
   "outputs": [],
   "source": [
    "import pandas as pd\n",
    "import numpy as np"
   ]
  },
  {
   "cell_type": "code",
   "execution_count": 2,
   "id": "c0b37349-2d0e-4bbb-93b5-e997f66f6674",
   "metadata": {},
   "outputs": [
    {
     "data": {
      "text/html": [
       "<div>\n",
       "<style scoped>\n",
       "    .dataframe tbody tr th:only-of-type {\n",
       "        vertical-align: middle;\n",
       "    }\n",
       "\n",
       "    .dataframe tbody tr th {\n",
       "        vertical-align: top;\n",
       "    }\n",
       "\n",
       "    .dataframe thead th {\n",
       "        text-align: right;\n",
       "    }\n",
       "</style>\n",
       "<table border=\"1\" class=\"dataframe\">\n",
       "  <thead>\n",
       "    <tr style=\"text-align: right;\">\n",
       "      <th></th>\n",
       "      <th>company</th>\n",
       "      <th>company_rating</th>\n",
       "      <th>location</th>\n",
       "      <th>job_title</th>\n",
       "      <th>job_description</th>\n",
       "      <th>salary_estimate</th>\n",
       "      <th>company_size</th>\n",
       "      <th>company_type</th>\n",
       "      <th>company_sector</th>\n",
       "      <th>company_industry</th>\n",
       "      <th>company_founded</th>\n",
       "      <th>company_revenue</th>\n",
       "    </tr>\n",
       "  </thead>\n",
       "  <tbody>\n",
       "    <tr>\n",
       "      <th>0</th>\n",
       "      <td>PCS Global Tech\\n4.7</td>\n",
       "      <td>4.7</td>\n",
       "      <td>Riverside, CA</td>\n",
       "      <td>Data Engineer | PAID BOOTCAMP</td>\n",
       "      <td>Responsibilities\\n· Analyze and organize raw d...</td>\n",
       "      <td>$70,000 /yr (est.)</td>\n",
       "      <td>501 to 1000 Employees</td>\n",
       "      <td>Company - Private</td>\n",
       "      <td>Information Technology</td>\n",
       "      <td>Information Technology Support Services</td>\n",
       "      <td>NaN</td>\n",
       "      <td>Unknown / Non-Applicable</td>\n",
       "    </tr>\n",
       "    <tr>\n",
       "      <th>1</th>\n",
       "      <td>Futuretech Consultants LLC</td>\n",
       "      <td>NaN</td>\n",
       "      <td>Newton, MS</td>\n",
       "      <td>Snowflake Data Engineer</td>\n",
       "      <td>My name is Dileep and I am a recruiter at Futu...</td>\n",
       "      <td>$42.50 /hr (est.)</td>\n",
       "      <td>NaN</td>\n",
       "      <td>NaN</td>\n",
       "      <td>NaN</td>\n",
       "      <td>NaN</td>\n",
       "      <td>NaN</td>\n",
       "      <td>NaN</td>\n",
       "    </tr>\n",
       "    <tr>\n",
       "      <th>2</th>\n",
       "      <td>Clairvoyant\\n4.4</td>\n",
       "      <td>4.4</td>\n",
       "      <td>Remote</td>\n",
       "      <td>Data Engineer (MDM)</td>\n",
       "      <td>Required Skills:\\nMust have 5-8+ Years of expe...</td>\n",
       "      <td>$67.50 /hr (est.)</td>\n",
       "      <td>51 to 200 Employees</td>\n",
       "      <td>Company - Private</td>\n",
       "      <td>Pharmaceutical &amp; Biotechnology</td>\n",
       "      <td>Biotech &amp; Pharmaceuticals</td>\n",
       "      <td>NaN</td>\n",
       "      <td>Unknown / Non-Applicable</td>\n",
       "    </tr>\n",
       "    <tr>\n",
       "      <th>3</th>\n",
       "      <td>Apple\\n4.2</td>\n",
       "      <td>4.2</td>\n",
       "      <td>Cupertino, CA</td>\n",
       "      <td>Data Engineer</td>\n",
       "      <td>Summary\\nPosted: Dec 22, 2021\\nWeekly Hours: 4...</td>\n",
       "      <td>NaN</td>\n",
       "      <td>10000+ Employees</td>\n",
       "      <td>Company - Public</td>\n",
       "      <td>Information Technology</td>\n",
       "      <td>Computer Hardware Development</td>\n",
       "      <td>1976.0</td>\n",
       "      <td>$10+ billion (USD)</td>\n",
       "    </tr>\n",
       "    <tr>\n",
       "      <th>4</th>\n",
       "      <td>Skytech Consultancy Services\\n5.0</td>\n",
       "      <td>5.0</td>\n",
       "      <td>Baltimore, MD</td>\n",
       "      <td>Data Engineer</td>\n",
       "      <td>Description of Work:\\nTechnical experience in ...</td>\n",
       "      <td>$65.00 /hr (est.)</td>\n",
       "      <td>1 to 50 Employees</td>\n",
       "      <td>Company - Public</td>\n",
       "      <td>NaN</td>\n",
       "      <td>NaN</td>\n",
       "      <td>NaN</td>\n",
       "      <td>Unknown / Non-Applicable</td>\n",
       "    </tr>\n",
       "  </tbody>\n",
       "</table>\n",
       "</div>"
      ],
      "text/plain": [
       "                             company  company_rating       location  \\\n",
       "0               PCS Global Tech\\n4.7             4.7  Riverside, CA   \n",
       "1         Futuretech Consultants LLC             NaN     Newton, MS   \n",
       "2                   Clairvoyant\\n4.4             4.4         Remote   \n",
       "3                         Apple\\n4.2             4.2  Cupertino, CA   \n",
       "4  Skytech Consultancy Services\\n5.0             5.0  Baltimore, MD   \n",
       "\n",
       "                       job_title  \\\n",
       "0  Data Engineer | PAID BOOTCAMP   \n",
       "1        Snowflake Data Engineer   \n",
       "2            Data Engineer (MDM)   \n",
       "3                  Data Engineer   \n",
       "4                  Data Engineer   \n",
       "\n",
       "                                     job_description     salary_estimate  \\\n",
       "0  Responsibilities\\n· Analyze and organize raw d...  $70,000 /yr (est.)   \n",
       "1  My name is Dileep and I am a recruiter at Futu...   $42.50 /hr (est.)   \n",
       "2  Required Skills:\\nMust have 5-8+ Years of expe...   $67.50 /hr (est.)   \n",
       "3  Summary\\nPosted: Dec 22, 2021\\nWeekly Hours: 4...                 NaN   \n",
       "4  Description of Work:\\nTechnical experience in ...   $65.00 /hr (est.)   \n",
       "\n",
       "            company_size       company_type                  company_sector  \\\n",
       "0  501 to 1000 Employees  Company - Private          Information Technology   \n",
       "1                    NaN                NaN                             NaN   \n",
       "2    51 to 200 Employees  Company - Private  Pharmaceutical & Biotechnology   \n",
       "3       10000+ Employees   Company - Public          Information Technology   \n",
       "4      1 to 50 Employees   Company - Public                             NaN   \n",
       "\n",
       "                          company_industry  company_founded  \\\n",
       "0  Information Technology Support Services              NaN   \n",
       "1                                      NaN              NaN   \n",
       "2                Biotech & Pharmaceuticals              NaN   \n",
       "3            Computer Hardware Development           1976.0   \n",
       "4                                      NaN              NaN   \n",
       "\n",
       "            company_revenue  \n",
       "0  Unknown / Non-Applicable  \n",
       "1                       NaN  \n",
       "2  Unknown / Non-Applicable  \n",
       "3        $10+ billion (USD)  \n",
       "4  Unknown / Non-Applicable  "
      ]
     },
     "execution_count": 2,
     "metadata": {},
     "output_type": "execute_result"
    }
   ],
   "source": [
    "df = pd.read_csv(\"../Data/Raw/glassdoor.csv\")\n",
    "df.head()"
   ]
  },
  {
   "cell_type": "code",
   "execution_count": 3,
   "id": "2e37fa3e-0b65-4ec9-9e61-e654c6141aef",
   "metadata": {},
   "outputs": [
    {
     "name": "stdout",
     "output_type": "stream",
     "text": [
      "<class 'pandas.core.frame.DataFrame'>\n",
      "RangeIndex: 1555 entries, 0 to 1554\n",
      "Data columns (total 12 columns):\n",
      " #   Column            Non-Null Count  Dtype  \n",
      "---  ------            --------------  -----  \n",
      " 0   company           1551 non-null   object \n",
      " 1   company_rating    1358 non-null   float64\n",
      " 2   location          1554 non-null   object \n",
      " 3   job_title         1554 non-null   object \n",
      " 4   job_description   1554 non-null   object \n",
      " 5   salary_estimate   1277 non-null   object \n",
      " 6   company_size      1442 non-null   object \n",
      " 7   company_type      1442 non-null   object \n",
      " 8   company_sector    1260 non-null   object \n",
      " 9   company_industry  1260 non-null   object \n",
      " 10  company_founded   1131 non-null   float64\n",
      " 11  company_revenue   1442 non-null   object \n",
      "dtypes: float64(2), object(10)\n",
      "memory usage: 145.9+ KB\n"
     ]
    }
   ],
   "source": [
    "# let check the dtypes of each column\n",
    "df.info()"
   ]
  },
  {
   "cell_type": "code",
   "execution_count": 4,
   "id": "d320efa5-9e62-4d26-9acd-89225273a6a7",
   "metadata": {},
   "outputs": [
    {
     "data": {
      "text/html": [
       "<div>\n",
       "<style scoped>\n",
       "    .dataframe tbody tr th:only-of-type {\n",
       "        vertical-align: middle;\n",
       "    }\n",
       "\n",
       "    .dataframe tbody tr th {\n",
       "        vertical-align: top;\n",
       "    }\n",
       "\n",
       "    .dataframe thead th {\n",
       "        text-align: right;\n",
       "    }\n",
       "</style>\n",
       "<table border=\"1\" class=\"dataframe\">\n",
       "  <thead>\n",
       "    <tr style=\"text-align: right;\">\n",
       "      <th></th>\n",
       "      <th>company_rating</th>\n",
       "      <th>company_founded</th>\n",
       "    </tr>\n",
       "  </thead>\n",
       "  <tbody>\n",
       "    <tr>\n",
       "      <th>count</th>\n",
       "      <td>1358.000000</td>\n",
       "      <td>1131.000000</td>\n",
       "    </tr>\n",
       "    <tr>\n",
       "      <th>mean</th>\n",
       "      <td>3.925626</td>\n",
       "      <td>1975.934571</td>\n",
       "    </tr>\n",
       "    <tr>\n",
       "      <th>std</th>\n",
       "      <td>0.535826</td>\n",
       "      <td>51.461792</td>\n",
       "    </tr>\n",
       "    <tr>\n",
       "      <th>min</th>\n",
       "      <td>1.000000</td>\n",
       "      <td>1636.000000</td>\n",
       "    </tr>\n",
       "    <tr>\n",
       "      <th>25%</th>\n",
       "      <td>3.600000</td>\n",
       "      <td>1965.000000</td>\n",
       "    </tr>\n",
       "    <tr>\n",
       "      <th>50%</th>\n",
       "      <td>3.900000</td>\n",
       "      <td>1997.000000</td>\n",
       "    </tr>\n",
       "    <tr>\n",
       "      <th>75%</th>\n",
       "      <td>4.200000</td>\n",
       "      <td>2009.000000</td>\n",
       "    </tr>\n",
       "    <tr>\n",
       "      <th>max</th>\n",
       "      <td>5.000000</td>\n",
       "      <td>2022.000000</td>\n",
       "    </tr>\n",
       "  </tbody>\n",
       "</table>\n",
       "</div>"
      ],
      "text/plain": [
       "       company_rating  company_founded\n",
       "count     1358.000000      1131.000000\n",
       "mean         3.925626      1975.934571\n",
       "std          0.535826        51.461792\n",
       "min          1.000000      1636.000000\n",
       "25%          3.600000      1965.000000\n",
       "50%          3.900000      1997.000000\n",
       "75%          4.200000      2009.000000\n",
       "max          5.000000      2022.000000"
      ]
     },
     "execution_count": 4,
     "metadata": {},
     "output_type": "execute_result"
    }
   ],
   "source": [
    "df.describe()"
   ]
  },
  {
   "cell_type": "markdown",
   "id": "628d8ec7-183f-4042-9860-039be8213239",
   "metadata": {},
   "source": [
    "### checking the null values"
   ]
  },
  {
   "cell_type": "code",
   "execution_count": 5,
   "id": "d4efb58a-007f-4b27-9e7a-2336346d05dc",
   "metadata": {},
   "outputs": [
    {
     "data": {
      "text/plain": [
       "company               4\n",
       "company_rating      197\n",
       "location              1\n",
       "job_title             1\n",
       "job_description       1\n",
       "salary_estimate     278\n",
       "company_size        113\n",
       "company_type        113\n",
       "company_sector      295\n",
       "company_industry    295\n",
       "company_founded     424\n",
       "company_revenue     113\n",
       "dtype: int64"
      ]
     },
     "execution_count": 5,
     "metadata": {},
     "output_type": "execute_result"
    }
   ],
   "source": [
    "df.isna().sum()"
   ]
  },
  {
   "cell_type": "markdown",
   "id": "039e9593-81f4-4fcf-abb7-1dff631f3ee1",
   "metadata": {},
   "source": [
    "### The most important column is \"company\", if it's null that means that the job didn't get scraped and therefore the other columns would alsoe be null"
   ]
  },
  {
   "cell_type": "code",
   "execution_count": 6,
   "id": "bd885cc1-4407-466a-97d1-c166242b147c",
   "metadata": {},
   "outputs": [],
   "source": [
    "df = df.dropna(subset=['company'])"
   ]
  },
  {
   "cell_type": "code",
   "execution_count": 7,
   "id": "32c68638-d237-4f36-bdae-88166680b6b8",
   "metadata": {},
   "outputs": [
    {
     "data": {
      "text/plain": [
       "company               0\n",
       "company_rating      193\n",
       "location              0\n",
       "job_title             0\n",
       "job_description       0\n",
       "salary_estimate     277\n",
       "company_size        112\n",
       "company_type        112\n",
       "company_sector      294\n",
       "company_industry    294\n",
       "company_founded     423\n",
       "company_revenue     112\n",
       "dtype: int64"
      ]
     },
     "execution_count": 7,
     "metadata": {},
     "output_type": "execute_result"
    }
   ],
   "source": [
    "df.isnull().sum()"
   ]
  },
  {
   "cell_type": "markdown",
   "id": "defde210-89bc-4f1e-8325-14951a0bd968",
   "metadata": {},
   "source": [
    "### Cleaning the company name by removing the associated rating"
   ]
  },
  {
   "cell_type": "code",
   "execution_count": 8,
   "id": "b88815d1-3635-4c73-b18c-b7a2666d8d84",
   "metadata": {},
   "outputs": [
    {
     "data": {
      "text/html": [
       "<div>\n",
       "<style scoped>\n",
       "    .dataframe tbody tr th:only-of-type {\n",
       "        vertical-align: middle;\n",
       "    }\n",
       "\n",
       "    .dataframe tbody tr th {\n",
       "        vertical-align: top;\n",
       "    }\n",
       "\n",
       "    .dataframe thead th {\n",
       "        text-align: right;\n",
       "    }\n",
       "</style>\n",
       "<table border=\"1\" class=\"dataframe\">\n",
       "  <thead>\n",
       "    <tr style=\"text-align: right;\">\n",
       "      <th></th>\n",
       "      <th>company</th>\n",
       "      <th>company_rating</th>\n",
       "      <th>location</th>\n",
       "      <th>job_title</th>\n",
       "      <th>job_description</th>\n",
       "      <th>salary_estimate</th>\n",
       "      <th>company_size</th>\n",
       "      <th>company_type</th>\n",
       "      <th>company_sector</th>\n",
       "      <th>company_industry</th>\n",
       "      <th>company_founded</th>\n",
       "      <th>company_revenue</th>\n",
       "    </tr>\n",
       "  </thead>\n",
       "  <tbody>\n",
       "    <tr>\n",
       "      <th>0</th>\n",
       "      <td>PCS Global Tech</td>\n",
       "      <td>4.7</td>\n",
       "      <td>Riverside, CA</td>\n",
       "      <td>Data Engineer | PAID BOOTCAMP</td>\n",
       "      <td>Responsibilities\\n· Analyze and organize raw d...</td>\n",
       "      <td>$70,000 /yr (est.)</td>\n",
       "      <td>501 to 1000 Employees</td>\n",
       "      <td>Company - Private</td>\n",
       "      <td>Information Technology</td>\n",
       "      <td>Information Technology Support Services</td>\n",
       "      <td>NaN</td>\n",
       "      <td>Unknown / Non-Applicable</td>\n",
       "    </tr>\n",
       "    <tr>\n",
       "      <th>1</th>\n",
       "      <td>Futuretech Consultants LLC</td>\n",
       "      <td>NaN</td>\n",
       "      <td>Newton, MS</td>\n",
       "      <td>Snowflake Data Engineer</td>\n",
       "      <td>My name is Dileep and I am a recruiter at Futu...</td>\n",
       "      <td>$42.50 /hr (est.)</td>\n",
       "      <td>NaN</td>\n",
       "      <td>NaN</td>\n",
       "      <td>NaN</td>\n",
       "      <td>NaN</td>\n",
       "      <td>NaN</td>\n",
       "      <td>NaN</td>\n",
       "    </tr>\n",
       "    <tr>\n",
       "      <th>2</th>\n",
       "      <td>Clairvoyant</td>\n",
       "      <td>4.4</td>\n",
       "      <td>Remote</td>\n",
       "      <td>Data Engineer (MDM)</td>\n",
       "      <td>Required Skills:\\nMust have 5-8+ Years of expe...</td>\n",
       "      <td>$67.50 /hr (est.)</td>\n",
       "      <td>51 to 200 Employees</td>\n",
       "      <td>Company - Private</td>\n",
       "      <td>Pharmaceutical &amp; Biotechnology</td>\n",
       "      <td>Biotech &amp; Pharmaceuticals</td>\n",
       "      <td>NaN</td>\n",
       "      <td>Unknown / Non-Applicable</td>\n",
       "    </tr>\n",
       "    <tr>\n",
       "      <th>3</th>\n",
       "      <td>Apple</td>\n",
       "      <td>4.2</td>\n",
       "      <td>Cupertino, CA</td>\n",
       "      <td>Data Engineer</td>\n",
       "      <td>Summary\\nPosted: Dec 22, 2021\\nWeekly Hours: 4...</td>\n",
       "      <td>NaN</td>\n",
       "      <td>10000+ Employees</td>\n",
       "      <td>Company - Public</td>\n",
       "      <td>Information Technology</td>\n",
       "      <td>Computer Hardware Development</td>\n",
       "      <td>1976.0</td>\n",
       "      <td>$10+ billion (USD)</td>\n",
       "    </tr>\n",
       "    <tr>\n",
       "      <th>4</th>\n",
       "      <td>Skytech Consultancy Services</td>\n",
       "      <td>5.0</td>\n",
       "      <td>Baltimore, MD</td>\n",
       "      <td>Data Engineer</td>\n",
       "      <td>Description of Work:\\nTechnical experience in ...</td>\n",
       "      <td>$65.00 /hr (est.)</td>\n",
       "      <td>1 to 50 Employees</td>\n",
       "      <td>Company - Public</td>\n",
       "      <td>NaN</td>\n",
       "      <td>NaN</td>\n",
       "      <td>NaN</td>\n",
       "      <td>Unknown / Non-Applicable</td>\n",
       "    </tr>\n",
       "  </tbody>\n",
       "</table>\n",
       "</div>"
      ],
      "text/plain": [
       "                        company  company_rating       location  \\\n",
       "0               PCS Global Tech             4.7  Riverside, CA   \n",
       "1    Futuretech Consultants LLC             NaN     Newton, MS   \n",
       "2                   Clairvoyant             4.4         Remote   \n",
       "3                         Apple             4.2  Cupertino, CA   \n",
       "4  Skytech Consultancy Services             5.0  Baltimore, MD   \n",
       "\n",
       "                       job_title  \\\n",
       "0  Data Engineer | PAID BOOTCAMP   \n",
       "1        Snowflake Data Engineer   \n",
       "2            Data Engineer (MDM)   \n",
       "3                  Data Engineer   \n",
       "4                  Data Engineer   \n",
       "\n",
       "                                     job_description     salary_estimate  \\\n",
       "0  Responsibilities\\n· Analyze and organize raw d...  $70,000 /yr (est.)   \n",
       "1  My name is Dileep and I am a recruiter at Futu...   $42.50 /hr (est.)   \n",
       "2  Required Skills:\\nMust have 5-8+ Years of expe...   $67.50 /hr (est.)   \n",
       "3  Summary\\nPosted: Dec 22, 2021\\nWeekly Hours: 4...                 NaN   \n",
       "4  Description of Work:\\nTechnical experience in ...   $65.00 /hr (est.)   \n",
       "\n",
       "            company_size       company_type                  company_sector  \\\n",
       "0  501 to 1000 Employees  Company - Private          Information Technology   \n",
       "1                    NaN                NaN                             NaN   \n",
       "2    51 to 200 Employees  Company - Private  Pharmaceutical & Biotechnology   \n",
       "3       10000+ Employees   Company - Public          Information Technology   \n",
       "4      1 to 50 Employees   Company - Public                             NaN   \n",
       "\n",
       "                          company_industry  company_founded  \\\n",
       "0  Information Technology Support Services              NaN   \n",
       "1                                      NaN              NaN   \n",
       "2                Biotech & Pharmaceuticals              NaN   \n",
       "3            Computer Hardware Development           1976.0   \n",
       "4                                      NaN              NaN   \n",
       "\n",
       "            company_revenue  \n",
       "0  Unknown / Non-Applicable  \n",
       "1                       NaN  \n",
       "2  Unknown / Non-Applicable  \n",
       "3        $10+ billion (USD)  \n",
       "4  Unknown / Non-Applicable  "
      ]
     },
     "execution_count": 8,
     "metadata": {},
     "output_type": "execute_result"
    }
   ],
   "source": [
    "df['company'] = df['company'].apply(lambda x: x.split('\\n')[0].strip())\n",
    "df.head()"
   ]
  },
  {
   "cell_type": "markdown",
   "id": "d44f67b8-c2cf-47fa-96b0-80f30424a420",
   "metadata": {},
   "source": [
    "### Correctly formating the salary estimate, and converting the hourly to annually"
   ]
  },
  {
   "cell_type": "code",
   "execution_count": 9,
   "id": "736c83af-c2cf-4c14-81ee-cfdb6131f389",
   "metadata": {},
   "outputs": [],
   "source": [
    "import re\n",
    "\n",
    "def clean_salary(salary_string):\n",
    "\n",
    "    if pd.isnull(salary_string):\n",
    "        return np.nan\n",
    "    else:\n",
    "        match_year = re.search(r'\\$(\\d{1,3},?\\d{0,3},?\\d{0,3}) \\/yr \\(est.\\)', salary_string)\n",
    "        match_hour = re.search(r'\\$(\\d+(\\.\\d+)?) \\/hr \\(est.\\)', salary_string)\n",
    "\n",
    "        if match_year:\n",
    "            salary_amount = float(match_year.group(1).replace(',', ''))\n",
    "        elif match_hour:\n",
    "            hourly_salary = float(match_hour.group(1))\n",
    "            salary_amount = hourly_salary * 1800\n",
    "        else:\n",
    "            salary_amount = np.nan\n",
    "\n",
    "        return salary_amount"
   ]
  },
  {
   "cell_type": "code",
   "execution_count": 10,
   "id": "30d0a425-246f-49bb-a0ea-9b5ca82c9561",
   "metadata": {},
   "outputs": [],
   "source": [
    "df['salary_estimate'] = df['salary_estimate'].apply(clean_salary)"
   ]
  },
  {
   "cell_type": "code",
   "execution_count": 11,
   "id": "c92f98dc-8142-482d-88c6-09ad24f99eed",
   "metadata": {},
   "outputs": [
    {
     "data": {
      "text/plain": [
       "0     70000.0\n",
       "1     76500.0\n",
       "2    121500.0\n",
       "3         NaN\n",
       "4    117000.0\n",
       "Name: salary_estimate, dtype: float64"
      ]
     },
     "execution_count": 11,
     "metadata": {},
     "output_type": "execute_result"
    }
   ],
   "source": [
    "df['salary_estimate'].head()"
   ]
  },
  {
   "cell_type": "markdown",
   "id": "d20dafa3-1251-4809-bd9e-62e166ae06cb",
   "metadata": {},
   "source": [
    "### Now let's replace the null salary estimates with the mean"
   ]
  },
  {
   "cell_type": "code",
   "execution_count": 12,
   "id": "2786ab09-2c39-4407-b333-356878856687",
   "metadata": {},
   "outputs": [],
   "source": [
    "df['salary_estimate'].fillna(df['salary_estimate'].mean(),inplace=True)"
   ]
  },
  {
   "cell_type": "markdown",
   "id": "3ccedf71-60c9-4ed1-9ccf-17262d369ab1",
   "metadata": {},
   "source": [
    "### Let's round the clean salary estimate"
   ]
  },
  {
   "cell_type": "code",
   "execution_count": 13,
   "id": "0008e803-c98f-4142-b9c8-62c473688810",
   "metadata": {},
   "outputs": [],
   "source": [
    "df['salary_estimate'] = df['salary_estimate'].round().astype(int)"
   ]
  },
  {
   "cell_type": "code",
   "execution_count": 14,
   "id": "ffd9a918-ba25-4061-83bc-0d74650a6ac5",
   "metadata": {},
   "outputs": [
    {
     "data": {
      "text/html": [
       "<div>\n",
       "<style scoped>\n",
       "    .dataframe tbody tr th:only-of-type {\n",
       "        vertical-align: middle;\n",
       "    }\n",
       "\n",
       "    .dataframe tbody tr th {\n",
       "        vertical-align: top;\n",
       "    }\n",
       "\n",
       "    .dataframe thead th {\n",
       "        text-align: right;\n",
       "    }\n",
       "</style>\n",
       "<table border=\"1\" class=\"dataframe\">\n",
       "  <thead>\n",
       "    <tr style=\"text-align: right;\">\n",
       "      <th></th>\n",
       "      <th>company</th>\n",
       "      <th>company_rating</th>\n",
       "      <th>location</th>\n",
       "      <th>job_title</th>\n",
       "      <th>job_description</th>\n",
       "      <th>salary_estimate</th>\n",
       "      <th>company_size</th>\n",
       "      <th>company_type</th>\n",
       "      <th>company_sector</th>\n",
       "      <th>company_industry</th>\n",
       "      <th>company_founded</th>\n",
       "      <th>company_revenue</th>\n",
       "    </tr>\n",
       "  </thead>\n",
       "  <tbody>\n",
       "    <tr>\n",
       "      <th>0</th>\n",
       "      <td>PCS Global Tech</td>\n",
       "      <td>4.7</td>\n",
       "      <td>Riverside, CA</td>\n",
       "      <td>Data Engineer | PAID BOOTCAMP</td>\n",
       "      <td>Responsibilities\\n· Analyze and organize raw d...</td>\n",
       "      <td>70000</td>\n",
       "      <td>501 to 1000 Employees</td>\n",
       "      <td>Company - Private</td>\n",
       "      <td>Information Technology</td>\n",
       "      <td>Information Technology Support Services</td>\n",
       "      <td>NaN</td>\n",
       "      <td>Unknown / Non-Applicable</td>\n",
       "    </tr>\n",
       "    <tr>\n",
       "      <th>1</th>\n",
       "      <td>Futuretech Consultants LLC</td>\n",
       "      <td>NaN</td>\n",
       "      <td>Newton, MS</td>\n",
       "      <td>Snowflake Data Engineer</td>\n",
       "      <td>My name is Dileep and I am a recruiter at Futu...</td>\n",
       "      <td>76500</td>\n",
       "      <td>NaN</td>\n",
       "      <td>NaN</td>\n",
       "      <td>NaN</td>\n",
       "      <td>NaN</td>\n",
       "      <td>NaN</td>\n",
       "      <td>NaN</td>\n",
       "    </tr>\n",
       "    <tr>\n",
       "      <th>2</th>\n",
       "      <td>Clairvoyant</td>\n",
       "      <td>4.4</td>\n",
       "      <td>Remote</td>\n",
       "      <td>Data Engineer (MDM)</td>\n",
       "      <td>Required Skills:\\nMust have 5-8+ Years of expe...</td>\n",
       "      <td>121500</td>\n",
       "      <td>51 to 200 Employees</td>\n",
       "      <td>Company - Private</td>\n",
       "      <td>Pharmaceutical &amp; Biotechnology</td>\n",
       "      <td>Biotech &amp; Pharmaceuticals</td>\n",
       "      <td>NaN</td>\n",
       "      <td>Unknown / Non-Applicable</td>\n",
       "    </tr>\n",
       "    <tr>\n",
       "      <th>3</th>\n",
       "      <td>Apple</td>\n",
       "      <td>4.2</td>\n",
       "      <td>Cupertino, CA</td>\n",
       "      <td>Data Engineer</td>\n",
       "      <td>Summary\\nPosted: Dec 22, 2021\\nWeekly Hours: 4...</td>\n",
       "      <td>115173</td>\n",
       "      <td>10000+ Employees</td>\n",
       "      <td>Company - Public</td>\n",
       "      <td>Information Technology</td>\n",
       "      <td>Computer Hardware Development</td>\n",
       "      <td>1976.0</td>\n",
       "      <td>$10+ billion (USD)</td>\n",
       "    </tr>\n",
       "    <tr>\n",
       "      <th>4</th>\n",
       "      <td>Skytech Consultancy Services</td>\n",
       "      <td>5.0</td>\n",
       "      <td>Baltimore, MD</td>\n",
       "      <td>Data Engineer</td>\n",
       "      <td>Description of Work:\\nTechnical experience in ...</td>\n",
       "      <td>117000</td>\n",
       "      <td>1 to 50 Employees</td>\n",
       "      <td>Company - Public</td>\n",
       "      <td>NaN</td>\n",
       "      <td>NaN</td>\n",
       "      <td>NaN</td>\n",
       "      <td>Unknown / Non-Applicable</td>\n",
       "    </tr>\n",
       "  </tbody>\n",
       "</table>\n",
       "</div>"
      ],
      "text/plain": [
       "                        company  company_rating       location  \\\n",
       "0               PCS Global Tech             4.7  Riverside, CA   \n",
       "1    Futuretech Consultants LLC             NaN     Newton, MS   \n",
       "2                   Clairvoyant             4.4         Remote   \n",
       "3                         Apple             4.2  Cupertino, CA   \n",
       "4  Skytech Consultancy Services             5.0  Baltimore, MD   \n",
       "\n",
       "                       job_title  \\\n",
       "0  Data Engineer | PAID BOOTCAMP   \n",
       "1        Snowflake Data Engineer   \n",
       "2            Data Engineer (MDM)   \n",
       "3                  Data Engineer   \n",
       "4                  Data Engineer   \n",
       "\n",
       "                                     job_description  salary_estimate  \\\n",
       "0  Responsibilities\\n· Analyze and organize raw d...            70000   \n",
       "1  My name is Dileep and I am a recruiter at Futu...            76500   \n",
       "2  Required Skills:\\nMust have 5-8+ Years of expe...           121500   \n",
       "3  Summary\\nPosted: Dec 22, 2021\\nWeekly Hours: 4...           115173   \n",
       "4  Description of Work:\\nTechnical experience in ...           117000   \n",
       "\n",
       "            company_size       company_type                  company_sector  \\\n",
       "0  501 to 1000 Employees  Company - Private          Information Technology   \n",
       "1                    NaN                NaN                             NaN   \n",
       "2    51 to 200 Employees  Company - Private  Pharmaceutical & Biotechnology   \n",
       "3       10000+ Employees   Company - Public          Information Technology   \n",
       "4      1 to 50 Employees   Company - Public                             NaN   \n",
       "\n",
       "                          company_industry  company_founded  \\\n",
       "0  Information Technology Support Services              NaN   \n",
       "1                                      NaN              NaN   \n",
       "2                Biotech & Pharmaceuticals              NaN   \n",
       "3            Computer Hardware Development           1976.0   \n",
       "4                                      NaN              NaN   \n",
       "\n",
       "            company_revenue  \n",
       "0  Unknown / Non-Applicable  \n",
       "1                       NaN  \n",
       "2  Unknown / Non-Applicable  \n",
       "3        $10+ billion (USD)  \n",
       "4  Unknown / Non-Applicable  "
      ]
     },
     "execution_count": 14,
     "metadata": {},
     "output_type": "execute_result"
    }
   ],
   "source": [
    "df.head()"
   ]
  },
  {
   "cell_type": "markdown",
   "id": "09056584-79a5-40fe-8b68-882f08ae7a80",
   "metadata": {},
   "source": [
    "### Extracting the state from the job location"
   ]
  },
  {
   "cell_type": "code",
   "execution_count": 15,
   "id": "f447f43a-fd59-4007-89ab-b87d8ada2b8f",
   "metadata": {},
   "outputs": [],
   "source": [
    "df['location'] = df['location'].astype(str)"
   ]
  },
  {
   "cell_type": "code",
   "execution_count": 16,
   "id": "4f63a297-38b6-4266-95f3-376e34edb009",
   "metadata": {},
   "outputs": [],
   "source": [
    "df['job_state'] = df['location'].apply(lambda x:x if x.lower() == 'remote' else x.split(', ')[-1])"
   ]
  },
  {
   "cell_type": "code",
   "execution_count": 17,
   "id": "dd8ab082-40c6-4af8-85d3-9cae8b937643",
   "metadata": {},
   "outputs": [
    {
     "data": {
      "text/plain": [
       "Remote           234\n",
       "CA               167\n",
       "TX               159\n",
       "VA                77\n",
       "United States     58\n",
       "                ... \n",
       "NH                 1\n",
       "Florida            1\n",
       "Rhode Island       1\n",
       "ID                 1\n",
       "Maryland           1\n",
       "Name: job_state, Length: 67, dtype: int64"
      ]
     },
     "execution_count": 17,
     "metadata": {},
     "output_type": "execute_result"
    }
   ],
   "source": [
    "df['job_state'].value_counts()"
   ]
  },
  {
   "cell_type": "markdown",
   "id": "e286edb2-f425-4b5d-8880-438cc342be16",
   "metadata": {},
   "source": [
    "### Replacing the 'United States' in job_state with the most common state (the state should not be Remote)"
   ]
  },
  {
   "cell_type": "code",
   "execution_count": 18,
   "id": "6da20b2b-c84c-44bd-a1af-cb56184b9848",
   "metadata": {},
   "outputs": [],
   "source": [
    "df['job_state'] = df['job_state'].replace({\"United States\":df.job_state.value_counts().index.tolist()[1]})"
   ]
  },
  {
   "cell_type": "code",
   "execution_count": 19,
   "id": "45365615-d8cb-4bc0-a18d-a2d572a73de8",
   "metadata": {},
   "outputs": [
    {
     "data": {
      "text/plain": [
       "Remote          234\n",
       "CA              225\n",
       "TX              159\n",
       "VA               77\n",
       "NY               57\n",
       "               ... \n",
       "HI                1\n",
       "Florida           1\n",
       "Rhode Island      1\n",
       "ID                1\n",
       "Maryland          1\n",
       "Name: job_state, Length: 66, dtype: int64"
      ]
     },
     "execution_count": 19,
     "metadata": {},
     "output_type": "execute_result"
    }
   ],
   "source": [
    "df.job_state.value_counts()"
   ]
  },
  {
   "cell_type": "code",
   "execution_count": 20,
   "id": "793ddf2a-dd81-4937-8f89-f0b96f4f49d1",
   "metadata": {},
   "outputs": [],
   "source": [
    "# Function to map full state names to abbreviations\n",
    "state_name_to_abbr = {\n",
    "    'California': 'CA', 'New York': 'NY', 'Texas': 'TX', \n",
    "    'Virginia': 'VA', 'Oregon': 'OR', 'Illinois': 'IL', \n",
    "    'Pennsylvania': 'PA', 'Minnesota': 'MN', 'Arizona': 'AZ', \n",
    "    'Wisconsin': 'WI', 'Michigan': 'MI', 'Missouri': 'MO', \n",
    "    'Florida': 'FL', 'Ohio': 'OH', 'New Jersey': 'NJ'\n",
    "}\n",
    "\n",
    "# Apply the mapping to standardize state names\n",
    "df['job_state'] = df['job_state'].replace(state_name_to_abbr)"
   ]
  },
  {
   "cell_type": "markdown",
   "id": "4417ff11-8fd3-440d-9bf7-79678c076bc7",
   "metadata": {
    "jp-MarkdownHeadingCollapsed": true
   },
   "source": [
    "### Replacing company rating null values with median"
   ]
  },
  {
   "cell_type": "code",
   "execution_count": 21,
   "id": "73b7c729-4ef1-40e4-8615-982d48126be3",
   "metadata": {},
   "outputs": [
    {
     "data": {
      "text/plain": [
       "Index(['company', 'company_rating', 'location', 'job_title', 'job_description',\n",
       "       'salary_estimate', 'company_size', 'company_type', 'company_sector',\n",
       "       'company_industry', 'company_founded', 'company_revenue', 'job_state'],\n",
       "      dtype='object')"
      ]
     },
     "execution_count": 21,
     "metadata": {},
     "output_type": "execute_result"
    }
   ],
   "source": [
    "df.columns"
   ]
  },
  {
   "cell_type": "code",
   "execution_count": 22,
   "id": "1df743f3-9cda-4dc3-bfcf-580556f12544",
   "metadata": {},
   "outputs": [],
   "source": [
    "df['company_rating'] = df['company_rating'].fillna(df.company_rating.median())"
   ]
  },
  {
   "cell_type": "markdown",
   "id": "024634cb-0916-473a-902b-352b1f01b523",
   "metadata": {},
   "source": [
    "### Adding a new column that contains the age of the company"
   ]
  },
  {
   "cell_type": "code",
   "execution_count": 23,
   "id": "cd1e55a1-2fde-406c-8580-35e0f20ffec7",
   "metadata": {},
   "outputs": [],
   "source": [
    "df['company_founded'] = df['company_founded'].fillna(-1)\n",
    "df['company_founded'] = df['company_founded'].astype(int)"
   ]
  },
  {
   "cell_type": "code",
   "execution_count": 24,
   "id": "96ab133d-d5fe-4f0a-8d06-9e1fd858423d",
   "metadata": {},
   "outputs": [
    {
     "data": {
      "text/plain": [
       "0    -1\n",
       "1    -1\n",
       "2    -1\n",
       "3    48\n",
       "4    -1\n",
       "Name: company_age, dtype: int64"
      ]
     },
     "execution_count": 24,
     "metadata": {},
     "output_type": "execute_result"
    }
   ],
   "source": [
    "import datetime\n",
    "\n",
    "today = datetime.datetime.now()\n",
    "\n",
    "df['company_age'] = df.company_founded.apply(lambda x: x if x < 0 else today.year - x)\n",
    "\n",
    "df['company_age'].head()"
   ]
  },
  {
   "cell_type": "code",
   "execution_count": 25,
   "id": "4177d9b6-d3e8-4b42-afcb-72644f7c808b",
   "metadata": {},
   "outputs": [],
   "source": [
    "def title_simplifier(title):\n",
    "    if 'data scientist' in title.lower():\n",
    "        return 'data scientist'\n",
    "    elif 'data engineer' in title.lower():\n",
    "        return 'data engineer'\n",
    "    elif 'data analyst' in title.lower():\n",
    "        return 'data analyst'\n",
    "    elif 'machine learning' in title.lower():\n",
    "        return 'mle'\n",
    "    else:\n",
    "        return 'na'"
   ]
  },
  {
   "cell_type": "code",
   "execution_count": 26,
   "id": "97e103fb-60bd-4522-82c7-a476c84461d5",
   "metadata": {},
   "outputs": [
    {
     "data": {
      "text/plain": [
       "data engineer     1110\n",
       "na                 414\n",
       "mle                 10\n",
       "data analyst         9\n",
       "data scientist       8\n",
       "Name: job_simp, dtype: int64"
      ]
     },
     "execution_count": 26,
     "metadata": {},
     "output_type": "execute_result"
    }
   ],
   "source": [
    "df['job_simp'] = df['job_title'].apply(title_simplifier)\n",
    "df.job_simp.value_counts()"
   ]
  },
  {
   "cell_type": "code",
   "execution_count": 27,
   "id": "fab449d8-eb49-4c71-a89a-000febfc7d41",
   "metadata": {},
   "outputs": [
    {
     "data": {
      "text/plain": [
       "data engineer    1110\n",
       "Name: job_simp, dtype: int64"
      ]
     },
     "execution_count": 27,
     "metadata": {},
     "output_type": "execute_result"
    }
   ],
   "source": [
    "df = df[df['job_simp'] == 'data engineer']\n",
    "\n",
    "df.job_simp.value_counts()"
   ]
  },
  {
   "cell_type": "code",
   "execution_count": 28,
   "id": "3b9c2e44-5b91-4d23-82be-4520db581e68",
   "metadata": {},
   "outputs": [],
   "source": [
    "def seniority(title):\n",
    "    if 'sr' in title.lower() or 'senior' in title.lower() or 'sr.' in title.lower() or 'lead' in title.lower() or 'principal' in title.lower():\n",
    "            return 'senior'\n",
    "    elif 'jr' in title.lower() or 'jr.' in title.lower():\n",
    "        return 'junior'\n",
    "    else:\n",
    "        return 'na'"
   ]
  },
  {
   "cell_type": "code",
   "execution_count": 29,
   "id": "4588f274-9076-49c5-887e-778566c88997",
   "metadata": {},
   "outputs": [
    {
     "data": {
      "text/plain": [
       "na        759\n",
       "senior    349\n",
       "junior      2\n",
       "Name: seniority, dtype: int64"
      ]
     },
     "execution_count": 29,
     "metadata": {},
     "output_type": "execute_result"
    }
   ],
   "source": [
    "df['seniority'] = df['job_title'].apply(seniority)\n",
    "df.seniority.value_counts()"
   ]
  },
  {
   "cell_type": "code",
   "execution_count": 30,
   "id": "016b172a-0e59-4f6a-981e-4114d323267c",
   "metadata": {},
   "outputs": [
    {
     "data": {
      "text/plain": [
       "na        759\n",
       "senior    349\n",
       "Name: seniority, dtype: int64"
      ]
     },
     "execution_count": 30,
     "metadata": {},
     "output_type": "execute_result"
    }
   ],
   "source": [
    "df = df[df['seniority'] != \"junior\"]\n",
    "\n",
    "df.seniority.value_counts()"
   ]
  },
  {
   "cell_type": "markdown",
   "id": "3c0c8b02-837c-43c5-b78f-bb38118670f7",
   "metadata": {},
   "source": [
    "### Extracting relevant skills from job description"
   ]
  },
  {
   "cell_type": "code",
   "execution_count": 31,
   "id": "fb09c3d3-e6fb-47da-8a01-16f026e75244",
   "metadata": {},
   "outputs": [],
   "source": [
    "prog_languages = ['python', 'java', 'scala', 'go', 'r', 'c', 'c++', 'c#', 'sql', 'rust', 'bash']\n",
    "cloud_tools = ['aws', 'azure', 'gcp']\n",
    "viz_tools = ['power bi', 'tableau', 'excel', 'ssis', 'qlik', 'sap', 'looker']\n",
    "databases = ['sql server', 'nosql', 'postgresql', 'mongodb', 'mysql', 'oracle', 'casandra', 'elasticsearch', 'dynamodb', 'snowflake', 'redis', 'neo4j', 'hive', 'databricks', 'redshift']\n",
    "big_data = ['spark', 'hadoop', 'flink']\n",
    "data_tools = ['airflow', 'kafka', 'dbt']\n",
    "devops = ['gitlab', 'terraform', 'kubernetes', 'docker', 'jenkins', 'ansible']\n",
    "\n",
    "import re\n",
    "\n",
    "def extract_keywords(description, keywords):\n",
    "    pattern = r'\\b(?:{})\\b'.format('|'.join(map(re.escape, keywords)))\n",
    "    matches = set(re.findall(pattern, description.lower(), flags=re.IGNORECASE))\n",
    "    \n",
    "    return list(matches)"
   ]
  },
  {
   "cell_type": "code",
   "execution_count": 32,
   "id": "fc612355-f770-440e-b585-d20c919592ee",
   "metadata": {},
   "outputs": [],
   "source": [
    "df['job_languages'] = df['job_description'].apply(lambda x: extract_keywords(x, prog_languages))\n",
    "df['job_cloud'] = df['job_description'].apply(lambda x: extract_keywords(x, cloud_tools))\n",
    "df['job_viz'] = df['job_description'].apply(lambda x: extract_keywords(x, viz_tools))\n",
    "df['job_databases'] = df['job_description'].apply(lambda x: extract_keywords(x, databases))\n",
    "df['job_bigdata'] = df['job_description'].apply(lambda x: extract_keywords(x, big_data))\n",
    "df['job_datatools'] = df['job_description'].apply(lambda x: extract_keywords(x, data_tools))\n",
    "df['job_devops'] = df['job_description'].apply(lambda x: extract_keywords(x, devops))"
   ]
  },
  {
   "cell_type": "markdown",
   "id": "e3f89c63-e72f-4487-8b25-212a11330fe8",
   "metadata": {},
   "source": [
    "### Extracting Education from job description"
   ]
  },
  {
   "cell_type": "code",
   "execution_count": 33,
   "id": "f404a807-1334-4d9d-99c2-eb33da0f8b1b",
   "metadata": {},
   "outputs": [],
   "source": [
    "education = ['associate', 'bachelor', 'master', 'phd']"
   ]
  },
  {
   "cell_type": "code",
   "execution_count": 34,
   "id": "4d0f9b13-a337-4055-a4b6-c8ce08668cf0",
   "metadata": {},
   "outputs": [],
   "source": [
    "def extract_degree(description, degrees):\n",
    "    pattern = r'\\b(?:{})\\b'.format('|'.join(map(re.escape, degrees)))\n",
    "    matches = re.findall(pattern, description.lower(), flags=re.IGNORECASE)\n",
    "    \n",
    "    if matches:\n",
    "        return matches[0]\n",
    "    \n",
    "    return None"
   ]
  },
  {
   "cell_type": "code",
   "execution_count": 35,
   "id": "d96bd195-8fa0-4fd6-9285-e8dada35124f",
   "metadata": {},
   "outputs": [
    {
     "data": {
      "text/plain": [
       "bachelor     481\n",
       "master        77\n",
       "associate     35\n",
       "phd            8\n",
       "Name: job_education, dtype: int64"
      ]
     },
     "execution_count": 35,
     "metadata": {},
     "output_type": "execute_result"
    }
   ],
   "source": [
    "df['job_education'] = df['job_description'].apply(lambda x: extract_degree(x, education))\n",
    "\n",
    "df['job_education'].value_counts()"
   ]
  },
  {
   "cell_type": "code",
   "execution_count": 36,
   "id": "d7756b2b-923b-4f5f-8bdb-11df553981bb",
   "metadata": {},
   "outputs": [
    {
     "data": {
      "text/plain": [
       "bachelor    481\n",
       "master       77\n",
       "Name: job_education, dtype: int64"
      ]
     },
     "execution_count": 36,
     "metadata": {},
     "output_type": "execute_result"
    }
   ],
   "source": [
    "df = df[df['job_education'] != \"associate\"]\n",
    "df = df[df['job_education'] != \"phd\"]\n",
    "\n",
    "df['job_education'].value_counts()"
   ]
  },
  {
   "cell_type": "markdown",
   "id": "2d00f671-2136-4ebc-b900-0d3ba40b8dc9",
   "metadata": {},
   "source": [
    "### Let's extract the experience needed to apply for the job"
   ]
  },
  {
   "cell_type": "code",
   "execution_count": 37,
   "id": "3c7648b9-e85e-449a-bd54-7a54f8fc45f8",
   "metadata": {},
   "outputs": [],
   "source": [
    "import re\n",
    "\n",
    "def extract_experience(description):\n",
    "    pattern = r'(?:Experience level|experience|\\+).*(?:\\n.*)*(\\d+|\\+)\\s*(?:year|years|\\+ years|\\+ years of experience)'\n",
    "    matches = re.findall(pattern, description, flags=re.IGNORECASE)\n",
    "    \n",
    "    if matches:\n",
    "        experience = matches[0]\n",
    "        if experience == '+':\n",
    "            return \"+10 years\"\n",
    "        elif int(experience) < 2:\n",
    "            return \"0-2 years\"\n",
    "        elif int(experience) < 5:\n",
    "            return \"2-5 years\"\n",
    "        elif int(experience) < 10:\n",
    "            return \"5-10 years\"\n",
    "        else:\n",
    "            return \"+10 years\"\n",
    "    else:\n",
    "        return None"
   ]
  },
  {
   "cell_type": "code",
   "execution_count": 38,
   "id": "8155679d-b374-4eba-8659-c40490bef8e9",
   "metadata": {},
   "outputs": [
    {
     "data": {
      "text/plain": [
       "+10 years     282\n",
       "5-10 years    169\n",
       "2-5 years     142\n",
       "0-2 years     137\n",
       "Name: job_experience, dtype: int64"
      ]
     },
     "execution_count": 38,
     "metadata": {},
     "output_type": "execute_result"
    }
   ],
   "source": [
    "df['job_experience'] = df['job_description'].apply(lambda x: extract_experience(x))\n",
    "\n",
    "df['job_experience'].value_counts()"
   ]
  },
  {
   "cell_type": "markdown",
   "id": "f46799be-57ba-420c-aa65-fcd0bacb7d5e",
   "metadata": {},
   "source": [
    "### Binning The Company Size"
   ]
  },
  {
   "cell_type": "code",
   "execution_count": 44,
   "id": "fecf40dc-4de9-45d4-8f3d-ce85f5a1baf4",
   "metadata": {},
   "outputs": [],
   "source": [
    "# Define the bins and the corresponding labels\n",
    "size_bins = {\n",
    "    '1 to 50 Employees': 'Small',\n",
    "    '51 to 200 Employees': 'Small',\n",
    "    '201 to 500 Employees': 'Medium',\n",
    "    '501 to 1000 Employees': 'Medium',\n",
    "    '1001 to 5000 Employees': 'Large',\n",
    "    '5001 to 10000 Employees': 'Large',\n",
    "    '10000+ Employees': 'Very Large',\n",
    "    'Unknown': 'Unknown',\n",
    "    np.nan:'Unknown'\n",
    "}\n",
    "\n",
    "# Apply the binning\n",
    "df['company_size'] = df['company_size'].replace(size_bins)\n"
   ]
  },
  {
   "cell_type": "code",
   "execution_count": 49,
   "id": "674d9947-5ef6-4a2f-ba51-87c54876af12",
   "metadata": {},
   "outputs": [],
   "source": [
    "data_path = '../Data/Cleaned/'\n",
    "\n",
    "df.to_csv(data_path + \"glassdoor-cleaned.csv\", index=False)"
   ]
  },
  {
   "cell_type": "code",
   "execution_count": null,
   "id": "1eea98d1-6001-4b94-924f-75549298a4e7",
   "metadata": {},
   "outputs": [],
   "source": []
  }
 ],
 "metadata": {
  "kernelspec": {
   "display_name": "Python 3 (ipykernel)",
   "language": "python",
   "name": "python3"
  },
  "language_info": {
   "codemirror_mode": {
    "name": "ipython",
    "version": 3
   },
   "file_extension": ".py",
   "mimetype": "text/x-python",
   "name": "python",
   "nbconvert_exporter": "python",
   "pygments_lexer": "ipython3",
   "version": "3.11.2"
  }
 },
 "nbformat": 4,
 "nbformat_minor": 5
}
